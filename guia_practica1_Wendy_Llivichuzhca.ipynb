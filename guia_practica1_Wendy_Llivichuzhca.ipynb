{
 "cells": [
  {
   "cell_type": "markdown",
   "id": "1aee53da",
   "metadata": {},
   "source": [
    "# 📊 Guía Práctica 1 - Análisis de Compras Públicas (Ecuador)\n",
    "**Autor:** Wendy Llivichuzhca\n",
    "\n",
    "Esta notebook documenta y ejecuta las visualizaciones de datos de compras públicas del Ecuador.\n",
    "Aquí aprenderás a:\n",
    "- Cargar datos desde la API de Compras Públicas.\n",
    "- Preprocesar y limpiar los datos.\n",
    "- Visualizar estadísticas descriptivas.\n",
    "- Crear gráficos interactivos con Plotly.\n",
    "- Exportar los datos filtrados.\n",
    "\n",
    "Esta notebook está diseñada como un **tutorial paso a paso**, para que puedas modificar y experimentar con los filtros y análisis."
   ]
  },
  {
   "cell_type": "code",
   "execution_count": null,
   "id": "1c64213d",
   "metadata": {},
   "outputs": [],
   "source": [
    "# -----------------------------\n",
    "# 0️⃣ Librerías necesarias\n",
    "# -----------------------------\n",
    "import pandas as pd\n",
    "import requests\n",
    "import plotly.express as px\n",
    "from datetime import datetime\n",
    "from IPython.display import display\n",
    "from ipywidgets import interact, widgets"
   ]
  },
  {
   "cell_type": "markdown",
   "id": "5873f5bd",
   "metadata": {},
   "source": [
    "## 1️⃣ Configuración de filtros\n",
    "Aquí definimos los valores posibles para los filtros: año, provincia, tipo de contratación y palabra clave. Puedes modificarlos directamente o usar los widgets interactivos más abajo."
   ]
  },
  {
   "cell_type": "code",
   "execution_count": null,
   "id": "bc63abdd",
   "metadata": {},
   "outputs": [],
   "source": [
    "# Valores posibles para filtros\n",
    "años = [str(a) for a in range(2015, 2026)]\n",
    "provincias = [\"Todos\", \"AZUAY\", \"BOLÍVAR\", \"CAÑAR\", \"CARCHI\", \"CHIMBORAZO\", \"COTOPAXI\",\n",
    "              \"EL ORO\", \"ESMERALDAS\", \"GALÁPAGOS\", \"GUAYAS\", \"IMBABURA\", \"LOJA\", \"LOS RÍOS\",\n",
    "              \"MANABÍ\", \"MORONA SANTIAGO\", \"NAPO\", \"ORELLANA\", \"PASTAZA\", \"PICHINCHA\",\n",
    "              \"SANTA ELENA\", \"SANTO DOMINGO DE LOS TSÁCHILAS\", \"SUCUMBÍOS\", \"TUNGURAHUA\",\n",
    "              \"ZAMORA CHINCHIPE\"]\n",
    "tipos_contratacion = [\"Todos\", \"Subasta Inversa Electrónica\", \"Menor Cuantía\", \"Cotización\",\n",
    "                      \"Contratación directa\", \"Licitación\", \"Catálogo electrónico\", \"Bienes y Servicios únicos\"]\n",
    "\n",
    "# Valores por defecto\n",
    "anio = '2022'\n",
    "provincia = 'Todos'\n",
    "tipo = 'Todos'\n",
    "palabra = ''"
   ]
  },
  {
   "cell_type": "markdown",
   "id": "b89b7fb1",
   "metadata": {},
   "source": [
    "### 🎛️ Filtros interactivos (opcional)\n",
    "Si deseas seleccionar filtros sin editar el código, puedes usar los widgets interactivos."
   ]
  },
  {
   "cell_type": "code",
   "execution_count": null,
   "id": "a004f7f3",
   "metadata": {},
   "outputs": [],
   "source": [
    "def seleccionar_filtros():\n",
    "    a = widgets.Dropdown(options=años, value='2022', description='Año:')\n",
    "    p = widgets.Dropdown(options=provincias, value='Todos', description='Provincia:')\n",
    "    t = widgets.Dropdown(options=tipos_contratacion, value='Todos', description='Tipo:')\n",
    "    k = widgets.Text(value='', description='Palabra:')\n",
    "    return a, p, t, k\n",
    "\n",
    "anio_widget, provincia_widget, tipo_widget, palabra_widget = seleccionar_filtros()\n",
    "display(anio_widget, provincia_widget, tipo_widget, palabra_widget)"
   ]
  },
  {
   "cell_type": "markdown",
   "id": "9ac48b66",
   "metadata": {},
   "source": [
    "## 2️⃣ Función para cargar datos desde la API\n",
    "Esta función hace la solicitud a la API de Compras Públicas usando los filtros seleccionados y devuelve un DataFrame limpio."
   ]
  },
  {
   "cell_type": "code",
   "execution_count": null,
   "id": "30a2100a",
   "metadata": {},
   "outputs": [],
   "source": [
    "def cargar_datos(year, region, tipo, palabra):\n",
    "    \"\"\"Carga datos de la API de Compras Públicas con filtros\"\"\"\n",
    "    url = \"https://datosabiertos.compraspublicas.gob.ec/PLATAFORMA/api/get_analysis\"\n",
    "    params = {\n",
    "        \"year\": year,\n",
    "        \"region\": None if region == \"Todos\" else region,\n",
    "        \"type\": None if tipo == \"Todos\" else tipo,\n",
    "        \"keyword\": palabra if palabra else None\n",
    "    }\n",
    "    resp = requests.get(url, params=params)\n",
    "    if resp.status_code != 200:\n",
    "        print(\"❌ Error al consultar la API\")\n",
    "        return pd.DataFrame()\n",
    "    data = resp.json()\n",
    "    if not data:\n",
    "        print(\"⚠️ No se encontraron datos con estos filtros\")\n",
    "        return pd.DataFrame()\n",
    "    df = pd.DataFrame(data)\n",
    "    return df"
   ]
  },
  {
   "cell_type": "markdown",
   "id": "36a58cc1",
   "metadata": {},
   "source": [
    "## 3️⃣ Carga y preprocesamiento de datos\n",
    "Se realiza limpieza, renombrado de columnas, conversión de tipos y creación de nuevas columnas para análisis por mes y año."
   ]
  },
  {
   "cell_type": "code",
   "execution_count": null,
   "id": "766c6b8c",
   "metadata": {},
   "outputs": [],
   "source": [
    "# Usar valores de widgets si se desea\n",
    "anio = anio_widget.value\n",
    "provincia = provincia_widget.value\n",
    "tipo = tipo_widget.value\n",
    "palabra = palabra_widget.value\n",
    "\n",
    "df = cargar_datos(anio, provincia, tipo, palabra)\n",
    "\n",
    "if df.empty:\n",
    "    print(\"⚠️ No hay datos para los filtros seleccionados\")\n",
    "else:\n",
    "    rename_map = {\"province\": \"region\", \"type\": \"internal_type\", \"amount\": \"total\", \"date\": \"date\"}\n",
    "    df.rename(columns={k:v for k,v in rename_map.items() if k in df.columns}, inplace=True)\n",
    "\n",
    "    if 'total' in df.columns:\n",
    "        df['total'] = pd.to_numeric(df['total'], errors='coerce')\n",
    "    if 'date' in df.columns:\n",
    "        df['date'] = pd.to_datetime(df['date'], errors='coerce')\n",
    "        df['month'] = df['date'].dt.month\n",
    "        df['year'] = df['date'].dt.year\n",
    "\n",
    "    df.drop_duplicates(inplace=True)\n",
    "    df.dropna(subset=['total'], inplace=True)\n",
    "\n",
    "    display(df.head())"
   ]
  },
  {
   "cell_type": "markdown",
   "id": "0f6862c2",
   "metadata": {},
   "source": [
    "## 4️⃣ Métricas generales\n",
    "Calculamos total de registros, monto total y promedio, y mostramos un resumen estadístico."
   ]
  },
  {
   "cell_type": "code",
   "execution_count": null,
   "id": "19bc1af8",
   "metadata": {},
   "outputs": [],
   "source": [
    "if not df.empty:\n",
    "    total_registros = len(df)\n",
    "    monto_total = df['total'].sum()\n",
    "    monto_promedio = df['total'].mean()\n",
    "\n",
    "    print(f\"Total de registros: {total_registros}\")\n",
    "    print(f\"Monto total: ${monto_total:,.2f}\")\n",
    "    print(f\"Monto promedio: ${monto_promedio:,.2f}\")\n",
    "\n",
    "    display(df.describe())"
   ]
  },
  {
   "cell_type": "markdown",
   "id": "f8d3963d",
   "metadata": {},
   "source": [
    "## 5️⃣ Visualizaciones Interactivas con Plotly\n",
    "Se crean gráficos de barras, línea y pastel para analizar montos totales, evolución mensual y proporción de contratos."
   ]
  },
  {
   "cell_type": "code",
   "execution_count": null,
   "id": "0a0f5d1f",
   "metadata": {},
   "outputs": [],
   "source": [
    "# a) Monto total por tipo de contratación\n",
    "if {'internal_type','total'}.issubset(df.columns):\n",
    "    df_tipo = df.groupby('internal_type')['total'].sum().reset_index()\n",
    "    fig1 = px.bar(df_tipo, x='internal_type', y='total',\n",
    "                  title='Monto total por tipo de contratación',\n",
    "                  color_discrete_sequence=['#36BF8D'])\n",
    "    fig1.show()"
   ]
  },
  {
   "cell_type": "code",
   "execution_count": null,
   "id": "92922e35",
   "metadata": {},
   "outputs": [],
   "source": [
    "# b) Evolución mensual de montos\n",
    "if {'month','total'}.issubset(df.columns):\n",
    "    df_mes = df.groupby('month')['total'].sum().reset_index()\n",
    "    fig2 = px.line(df_mes, x='month', y='total',\n",
    "                   title='Evolución mensual de montos totales',\n",
    "                   markers=True, color_discrete_sequence=['#36BF8D'])\n",
    "    fig2.show()"
   ]
  },
  {
   "cell_type": "code",
   "execution_count": null,
   "id": "c1243af9",
   "metadata": {},
   "outputs": [],
   "source": [
    "# c) Barras apiladas tipo × mes\n",
    "if {'month','internal_type','total'}.issubset(df.columns):\n",
    "    df_tipo_mes = df.groupby(['month','internal_type'])['total'].sum().reset_index()\n",
    "    fig3 = px.bar(df_tipo_mes, x='month', y='total', color='internal_type', barmode='stack',\n",
    "                  title='Monto total por tipo de contratación y mes')\n",
    "    fig3.show()"
   ]
  },
  {
   "cell_type": "code",
   "execution_count": null,
   "id": "c7e18048",
   "metadata": {},
   "outputs": [],
   "source": [
    "# d) Proporción de contratos\n",
    "if 'internal_type' in df.columns:\n",
    "    fig4 = px.pie(df, names='internal_type',\n",
    "                  title='Proporción de contratos por tipo de contratación',\n",
    "                  color_discrete_sequence=px.colors.sequential.Greens)\n",
    "    fig4.show()"
   ]
  },
  {
   "cell_type": "code",
   "execution_count": null,
   "id": "4b284600",
   "metadata": {},
   "outputs": [],
   "source": [
    "# e) Montos totales por tipo de contratación por año\n",
    "if {'year','internal_type','total'}.issubset(df.columns):\n",
    "    df_year = df.groupby(['year','internal_type'])['total'].sum().reset_index()\n",
    "    fig5 = px.bar(df_year, x='year', y='total', color='internal_type', barmode='stack',\n",
    "                  title='Montos totales por tipo de contratación por año')\n",
    "    fig5.show()"
   ]
  },
  {
   "cell_type": "markdown",
   "id": "9d12917b",
   "metadata": {},
   "source": [
    "## 6️⃣ Exportación de datos\n",
    "Puedes exportar los datos filtrados a CSV para análisis externo."
   ]
  },
  {
   "cell_type": "code",
   "execution_count": null,
   "id": "cc235570",
   "metadata": {},
   "outputs": [],
   "source": [
    "if not df.empty:\n",
    "    filename = f\"compras_publicas_{anio}.csv\"\n",
    "    df.to_csv(filename, index=False, encoding='utf-8')\n",
    "    print(f\"✅ Datos exportados a {filename}\")"
   ]
  },
  {
   "cell_type": "markdown",
   "metadata": {},
   "source": [
    "## 7️⃣ Conclusiones\n",
    "- Los tipos de contratación más utilizados se destacan en los gráficos.\n",
    "- Se observan variaciones mensuales de los montos.\n",
    "- La relación entre monto y número de contratos evidencia concentración de gasto.\n",
    "- La descarga de datos permite análisis más profundo fuera de la notebook.\n",
    "- Esta notebook facilita la comprensión visual y analítica de la gestión de compras públicas en Ecuador."
   ]
  }
 ],
 "metadata": {
  "kernelspec": {
   "display_name": "Python 3",
   "language": "python",
   "name": "python3"
  },
  "language_info": {
   "name": "python",
   "version": "3.11"
  }
 },
 "nbformat": 4,
 "nbformat_minor": 5
}
